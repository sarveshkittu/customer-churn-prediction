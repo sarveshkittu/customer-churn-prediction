{
 "cells": [
  {
   "cell_type": "code",
   "execution_count": 43,
   "id": "141fb72f-2b3a-47f4-afc9-d8ac72eea600",
   "metadata": {},
   "outputs": [],
   "source": [
    "import pandas as pd\n",
    "import numpy as np\n",
    "import matplotlib.pyplot as plt\n",
    "import seaborn as sns\n",
    "import gradio as gr\n",
    "from datetime import datetime\n",
    "from sklearn.preprocessing import LabelEncoder, StandardScaler\n",
    "from sklearn.model_selection import train_test_split\n",
    "from sklearn.decomposition import PCA\n",
    "from sklearn.linear_model import LogisticRegression\n",
    "from sklearn.metrics import precision_score, recall_score, f1_score, roc_auc_score, confusion_matrix"
   ]
  },
  {
   "cell_type": "markdown",
   "id": "3fcd62d9-2718-40f3-9c41-e3f46db9507b",
   "metadata": {},
   "source": [
    "**Find the information about dataset from the below Link** - https://www.kaggle.com/datasets/gsagar12/dspp1"
   ]
  },
  {
   "cell_type": "code",
   "execution_count": 3,
   "id": "5f3975d0-061d-481e-826f-939781d7ce8e",
   "metadata": {},
   "outputs": [],
   "source": [
    "# Load CSVs\n",
    "cust_cases_df = pd.read_csv('https://raw.githubusercontent.com/Namachivayam2001/Public_Datasets/refs/heads/main/customer_cases.csv')\n",
    "cust_info_df = pd.read_csv('https://github.com/Namachivayam2001/Public_Datasets/raw/main/customer_info.csv')\n",
    "cust_prod_df = pd.read_csv(r'D:\\python\\Datasets\\customer_product.csv')\n",
    "prod_info_df = pd.read_csv('https://github.com/Namachivayam2001/Public_Datasets/raw/main/product_info.csv')"
   ]
  },
  {
   "cell_type": "code",
   "execution_count": 4,
   "id": "a569465f-96d8-4401-8cf1-c1ff50a778b4",
   "metadata": {},
   "outputs": [
    {
     "name": "stdout",
     "output_type": "stream",
     "text": [
      "cust_cases: Index(['Unnamed: 0', 'case_id', 'date_time', 'customer_id', 'channel',\n",
      "       'reason'],\n",
      "      dtype='object')\n",
      "cust_info: Index(['Unnamed: 0', 'customer_id', 'age', 'gender'], dtype='object')\n",
      "cust_prod: Index(['Unnamed: 0', 'customer_id', 'product', 'signup_date_time',\n",
      "       'cancel_date_time'],\n",
      "      dtype='object')\n",
      "prod_info: Index(['product_id', 'name', 'price', 'billing_cycle'], dtype='object')\n"
     ]
    }
   ],
   "source": [
    "# check the column names of the tables\n",
    "print(f'cust_cases: {cust_cases_df.columns}')\n",
    "print(f'cust_info: {cust_info_df.columns}')\n",
    "print(f'cust_prod: {cust_prod_df.columns}')\n",
    "print(f'prod_info: {prod_info_df.columns}')"
   ]
  },
  {
   "cell_type": "code",
   "execution_count": 5,
   "id": "242eda03-26c5-4a9e-b8b5-fc0d9956a3c9",
   "metadata": {},
   "outputs": [],
   "source": [
    "cust_cases_df.drop(columns=['Unnamed: 0'], inplace=True)\n",
    "cust_info_df.drop(columns=['Unnamed: 0'], inplace=True)\n",
    "cust_prod_df.drop(columns=['Unnamed: 0'], inplace=True)"
   ]
  },
  {
   "cell_type": "code",
   "execution_count": 6,
   "id": "a79e5fec-f9cf-4287-bc04-9a5da68b025c",
   "metadata": {},
   "outputs": [
    {
     "data": {
      "text/plain": [
       "(  case_id            date_time customer_id channel  reason\n",
       " 0   CC101  2017-01-01 10:32:03       C2448   phone  signup\n",
       " 1   CC102  2017-01-01 11:35:47       C2449   phone  signup\n",
       " 2   CC103  2017-01-01 11:37:09       C2450   phone  signup\n",
       " 3   CC104  2017-01-01 13:28:14       C2451   phone  signup\n",
       " 4   CC105  2017-01-01 13:52:22       C2452   phone  signup,\n",
       "   customer_id  age  gender\n",
       " 0       C2448   76  female\n",
       " 1       C2449   61    male\n",
       " 2       C2450   58  female\n",
       " 3       C2451   62  female\n",
       " 4       C2452   71    male,\n",
       "   customer_id product     signup_date_time     cancel_date_time\n",
       " 0       C2448   prd_1  2017-01-01 10:35:09                  NaN\n",
       " 1       C2449   prd_1  2017-01-01 11:39:29  2021-09-05 10:00:02\n",
       " 2       C2450   prd_1  2017-01-01 11:42:00  2019-01-13 16:24:55\n",
       " 3       C2451   prd_2  2017-01-01 13:32:08                  NaN\n",
       " 4       C2452   prd_1  2017-01-01 13:57:30  2021-06-28 18:06:01,\n",
       "   product_id                  name  price  billing_cycle\n",
       " 0      prd_1   annual_subscription   1200             12\n",
       " 1      prd_2  monthly_subscription    125              1)"
      ]
     },
     "execution_count": 6,
     "metadata": {},
     "output_type": "execute_result"
    }
   ],
   "source": [
    "cust_cases_df.head(), cust_info_df.head(), cust_prod_df.head(), prod_info_df.head()"
   ]
  },
  {
   "cell_type": "code",
   "execution_count": 7,
   "id": "4ba955fc-8464-4d01-9639-11e8c959a0fd",
   "metadata": {},
   "outputs": [],
   "source": [
    "# Merge customer_cases with customer_product on customer_id\n",
    "merged_df = pd.merge(cust_cases_df, cust_prod_df, on='customer_id', how='left')"
   ]
  },
  {
   "cell_type": "code",
   "execution_count": 8,
   "id": "3c87aa2e-3098-41e0-b3cf-2424199bbf68",
   "metadata": {},
   "outputs": [],
   "source": [
    "# Merge the result with customer_info on customer_id\n",
    "merged_df = pd.merge(merged_df, cust_info_df, on='customer_id', how='left')"
   ]
  },
  {
   "cell_type": "code",
   "execution_count": 9,
   "id": "e55fe97d-f3cc-466d-99e7-6bb676df1a15",
   "metadata": {},
   "outputs": [],
   "source": [
    "# Merge the result with product_info on product\n",
    "churn_df = pd.merge(merged_df, prod_info_df, left_on='product', right_on='product_id', how='left')"
   ]
  },
  {
   "cell_type": "code",
   "execution_count": 10,
   "id": "7a36e1ab-1883-4207-b971-b2fe4a0ca700",
   "metadata": {},
   "outputs": [
    {
     "data": {
      "text/html": [
       "<div>\n",
       "<style scoped>\n",
       "    .dataframe tbody tr th:only-of-type {\n",
       "        vertical-align: middle;\n",
       "    }\n",
       "\n",
       "    .dataframe tbody tr th {\n",
       "        vertical-align: top;\n",
       "    }\n",
       "\n",
       "    .dataframe thead th {\n",
       "        text-align: right;\n",
       "    }\n",
       "</style>\n",
       "<table border=\"1\" class=\"dataframe\">\n",
       "  <thead>\n",
       "    <tr style=\"text-align: right;\">\n",
       "      <th></th>\n",
       "      <th>case_id</th>\n",
       "      <th>date_time</th>\n",
       "      <th>customer_id</th>\n",
       "      <th>channel</th>\n",
       "      <th>reason</th>\n",
       "      <th>product</th>\n",
       "      <th>signup_date_time</th>\n",
       "      <th>cancel_date_time</th>\n",
       "      <th>age</th>\n",
       "      <th>gender</th>\n",
       "      <th>product_id</th>\n",
       "      <th>name</th>\n",
       "      <th>price</th>\n",
       "      <th>billing_cycle</th>\n",
       "    </tr>\n",
       "  </thead>\n",
       "  <tbody>\n",
       "    <tr>\n",
       "      <th>0</th>\n",
       "      <td>CC101</td>\n",
       "      <td>2017-01-01 10:32:03</td>\n",
       "      <td>C2448</td>\n",
       "      <td>phone</td>\n",
       "      <td>signup</td>\n",
       "      <td>prd_1</td>\n",
       "      <td>2017-01-01 10:35:09</td>\n",
       "      <td>NaN</td>\n",
       "      <td>76</td>\n",
       "      <td>female</td>\n",
       "      <td>prd_1</td>\n",
       "      <td>annual_subscription</td>\n",
       "      <td>1200</td>\n",
       "      <td>12</td>\n",
       "    </tr>\n",
       "    <tr>\n",
       "      <th>1</th>\n",
       "      <td>CC102</td>\n",
       "      <td>2017-01-01 11:35:47</td>\n",
       "      <td>C2449</td>\n",
       "      <td>phone</td>\n",
       "      <td>signup</td>\n",
       "      <td>prd_1</td>\n",
       "      <td>2017-01-01 11:39:29</td>\n",
       "      <td>2021-09-05 10:00:02</td>\n",
       "      <td>61</td>\n",
       "      <td>male</td>\n",
       "      <td>prd_1</td>\n",
       "      <td>annual_subscription</td>\n",
       "      <td>1200</td>\n",
       "      <td>12</td>\n",
       "    </tr>\n",
       "    <tr>\n",
       "      <th>2</th>\n",
       "      <td>CC103</td>\n",
       "      <td>2017-01-01 11:37:09</td>\n",
       "      <td>C2450</td>\n",
       "      <td>phone</td>\n",
       "      <td>signup</td>\n",
       "      <td>prd_1</td>\n",
       "      <td>2017-01-01 11:42:00</td>\n",
       "      <td>2019-01-13 16:24:55</td>\n",
       "      <td>58</td>\n",
       "      <td>female</td>\n",
       "      <td>prd_1</td>\n",
       "      <td>annual_subscription</td>\n",
       "      <td>1200</td>\n",
       "      <td>12</td>\n",
       "    </tr>\n",
       "    <tr>\n",
       "      <th>3</th>\n",
       "      <td>CC104</td>\n",
       "      <td>2017-01-01 13:28:14</td>\n",
       "      <td>C2451</td>\n",
       "      <td>phone</td>\n",
       "      <td>signup</td>\n",
       "      <td>prd_2</td>\n",
       "      <td>2017-01-01 13:32:08</td>\n",
       "      <td>NaN</td>\n",
       "      <td>62</td>\n",
       "      <td>female</td>\n",
       "      <td>prd_2</td>\n",
       "      <td>monthly_subscription</td>\n",
       "      <td>125</td>\n",
       "      <td>1</td>\n",
       "    </tr>\n",
       "    <tr>\n",
       "      <th>4</th>\n",
       "      <td>CC105</td>\n",
       "      <td>2017-01-01 13:52:22</td>\n",
       "      <td>C2452</td>\n",
       "      <td>phone</td>\n",
       "      <td>signup</td>\n",
       "      <td>prd_1</td>\n",
       "      <td>2017-01-01 13:57:30</td>\n",
       "      <td>2021-06-28 18:06:01</td>\n",
       "      <td>71</td>\n",
       "      <td>male</td>\n",
       "      <td>prd_1</td>\n",
       "      <td>annual_subscription</td>\n",
       "      <td>1200</td>\n",
       "      <td>12</td>\n",
       "    </tr>\n",
       "  </tbody>\n",
       "</table>\n",
       "</div>"
      ],
      "text/plain": [
       "  case_id            date_time customer_id channel  reason product  \\\n",
       "0   CC101  2017-01-01 10:32:03       C2448   phone  signup   prd_1   \n",
       "1   CC102  2017-01-01 11:35:47       C2449   phone  signup   prd_1   \n",
       "2   CC103  2017-01-01 11:37:09       C2450   phone  signup   prd_1   \n",
       "3   CC104  2017-01-01 13:28:14       C2451   phone  signup   prd_2   \n",
       "4   CC105  2017-01-01 13:52:22       C2452   phone  signup   prd_1   \n",
       "\n",
       "      signup_date_time     cancel_date_time  age  gender product_id  \\\n",
       "0  2017-01-01 10:35:09                  NaN   76  female      prd_1   \n",
       "1  2017-01-01 11:39:29  2021-09-05 10:00:02   61    male      prd_1   \n",
       "2  2017-01-01 11:42:00  2019-01-13 16:24:55   58  female      prd_1   \n",
       "3  2017-01-01 13:32:08                  NaN   62  female      prd_2   \n",
       "4  2017-01-01 13:57:30  2021-06-28 18:06:01   71    male      prd_1   \n",
       "\n",
       "                   name  price  billing_cycle  \n",
       "0   annual_subscription   1200             12  \n",
       "1   annual_subscription   1200             12  \n",
       "2   annual_subscription   1200             12  \n",
       "3  monthly_subscription    125              1  \n",
       "4   annual_subscription   1200             12  "
      ]
     },
     "execution_count": 10,
     "metadata": {},
     "output_type": "execute_result"
    }
   ],
   "source": [
    "churn_df.head()"
   ]
  },
  {
   "cell_type": "code",
   "execution_count": 11,
   "id": "63e5abb5-2db8-4d9c-8ef5-ff8a1dc709b6",
   "metadata": {},
   "outputs": [],
   "source": [
    "# rename the column name to product_name\n",
    "churn_df.rename(columns={'name': 'product_name'}, inplace=True)"
   ]
  },
  {
   "cell_type": "code",
   "execution_count": 12,
   "id": "9ab0452c-997a-451a-9a10-250bd6a13acb",
   "metadata": {},
   "outputs": [],
   "source": [
    "# Ensure both columns are in datetime format\n",
    "churn_df['signup_date_time'] = pd.to_datetime(churn_df['signup_date_time'])\n",
    "churn_df['cancel_date_time'] = pd.to_datetime(churn_df['cancel_date_time'])"
   ]
  },
  {
   "cell_type": "code",
   "execution_count": 13,
   "id": "6895ab90-b374-49ce-8cf3-86c94464a3e3",
   "metadata": {},
   "outputs": [],
   "source": [
    "# Calculate days_since_signup\n",
    "reference_time = pd.to_datetime(datetime.now())\n",
    "churn_df['days_since_signup'] = (churn_df['cancel_date_time'].fillna(reference_time) - churn_df['signup_date_time']).dt.total_seconds() / 86400  # in days"
   ]
  },
  {
   "cell_type": "code",
   "execution_count": 14,
   "id": "f42fbd08-8866-4335-bd41-a165c92650ba",
   "metadata": {},
   "outputs": [],
   "source": [
    "# Create a outcome column using cancel_date_time\n",
    "churn_df['churned'] = churn_df['cancel_date_time'].notnull()"
   ]
  },
  {
   "cell_type": "code",
   "execution_count": 15,
   "id": "f7e2b2b3-6709-4eb5-84eb-f1344753d911",
   "metadata": {},
   "outputs": [],
   "source": [
    "# remove the unwanted columns\n",
    "churn_df = churn_df.drop(columns=['case_id', 'customer_id', 'product', 'product_id', 'cancel_date_time', 'signup_date_time', 'date_time'])"
   ]
  },
  {
   "cell_type": "code",
   "execution_count": 16,
   "id": "be62d46f-264f-4efb-a237-ce4de116af31",
   "metadata": {},
   "outputs": [
    {
     "data": {
      "text/html": [
       "<div>\n",
       "<style scoped>\n",
       "    .dataframe tbody tr th:only-of-type {\n",
       "        vertical-align: middle;\n",
       "    }\n",
       "\n",
       "    .dataframe tbody tr th {\n",
       "        vertical-align: top;\n",
       "    }\n",
       "\n",
       "    .dataframe thead th {\n",
       "        text-align: right;\n",
       "    }\n",
       "</style>\n",
       "<table border=\"1\" class=\"dataframe\">\n",
       "  <thead>\n",
       "    <tr style=\"text-align: right;\">\n",
       "      <th></th>\n",
       "      <th>channel</th>\n",
       "      <th>reason</th>\n",
       "      <th>age</th>\n",
       "      <th>gender</th>\n",
       "      <th>product_name</th>\n",
       "      <th>price</th>\n",
       "      <th>billing_cycle</th>\n",
       "      <th>days_since_signup</th>\n",
       "      <th>churned</th>\n",
       "    </tr>\n",
       "  </thead>\n",
       "  <tbody>\n",
       "    <tr>\n",
       "      <th>0</th>\n",
       "      <td>phone</td>\n",
       "      <td>signup</td>\n",
       "      <td>76</td>\n",
       "      <td>female</td>\n",
       "      <td>annual_subscription</td>\n",
       "      <td>1200</td>\n",
       "      <td>12</td>\n",
       "      <td>3055.158830</td>\n",
       "      <td>False</td>\n",
       "    </tr>\n",
       "    <tr>\n",
       "      <th>1</th>\n",
       "      <td>phone</td>\n",
       "      <td>signup</td>\n",
       "      <td>61</td>\n",
       "      <td>male</td>\n",
       "      <td>annual_subscription</td>\n",
       "      <td>1200</td>\n",
       "      <td>12</td>\n",
       "      <td>1707.930938</td>\n",
       "      <td>True</td>\n",
       "    </tr>\n",
       "    <tr>\n",
       "      <th>2</th>\n",
       "      <td>phone</td>\n",
       "      <td>signup</td>\n",
       "      <td>58</td>\n",
       "      <td>female</td>\n",
       "      <td>annual_subscription</td>\n",
       "      <td>1200</td>\n",
       "      <td>12</td>\n",
       "      <td>742.196470</td>\n",
       "      <td>True</td>\n",
       "    </tr>\n",
       "    <tr>\n",
       "      <th>3</th>\n",
       "      <td>phone</td>\n",
       "      <td>signup</td>\n",
       "      <td>62</td>\n",
       "      <td>female</td>\n",
       "      <td>monthly_subscription</td>\n",
       "      <td>125</td>\n",
       "      <td>1</td>\n",
       "      <td>3055.035925</td>\n",
       "      <td>False</td>\n",
       "    </tr>\n",
       "    <tr>\n",
       "      <th>4</th>\n",
       "      <td>phone</td>\n",
       "      <td>signup</td>\n",
       "      <td>71</td>\n",
       "      <td>male</td>\n",
       "      <td>annual_subscription</td>\n",
       "      <td>1200</td>\n",
       "      <td>12</td>\n",
       "      <td>1639.172581</td>\n",
       "      <td>True</td>\n",
       "    </tr>\n",
       "  </tbody>\n",
       "</table>\n",
       "</div>"
      ],
      "text/plain": [
       "  channel  reason  age  gender          product_name  price  billing_cycle  \\\n",
       "0   phone  signup   76  female   annual_subscription   1200             12   \n",
       "1   phone  signup   61    male   annual_subscription   1200             12   \n",
       "2   phone  signup   58  female   annual_subscription   1200             12   \n",
       "3   phone  signup   62  female  monthly_subscription    125              1   \n",
       "4   phone  signup   71    male   annual_subscription   1200             12   \n",
       "\n",
       "   days_since_signup  churned  \n",
       "0        3055.158830    False  \n",
       "1        1707.930938     True  \n",
       "2         742.196470     True  \n",
       "3        3055.035925    False  \n",
       "4        1639.172581     True  "
      ]
     },
     "execution_count": 16,
     "metadata": {},
     "output_type": "execute_result"
    }
   ],
   "source": [
    "churn_df.head()"
   ]
  },
  {
   "cell_type": "markdown",
   "id": "c82cb563-33d1-42f7-8a83-1421e275aab8",
   "metadata": {},
   "source": [
    "## Now we created the final DataFrame for our model by using `customer_cases.csv`, `customer_info.csv`, `customer_product.csv` and `product_info.csv`\n",
    "### 1. Let's perform data inspection"
   ]
  },
  {
   "cell_type": "code",
   "execution_count": 17,
   "id": "ce00dd3b-1b95-4cf2-8934-8e51d5773629",
   "metadata": {},
   "outputs": [
    {
     "data": {
      "text/plain": [
       "(330512, 9)"
      ]
     },
     "execution_count": 17,
     "metadata": {},
     "output_type": "execute_result"
    }
   ],
   "source": [
    "# check the number of rows and columns in a dataframe\n",
    "churn_df.shape"
   ]
  },
  {
   "cell_type": "code",
   "execution_count": 18,
   "id": "fbea3d99-27eb-4a65-aeff-163d52d7677c",
   "metadata": {},
   "outputs": [
    {
     "name": "stdout",
     "output_type": "stream",
     "text": [
      "<class 'pandas.core.frame.DataFrame'>\n",
      "RangeIndex: 330512 entries, 0 to 330511\n",
      "Data columns (total 9 columns):\n",
      " #   Column             Non-Null Count   Dtype  \n",
      "---  ------             --------------   -----  \n",
      " 0   channel            330512 non-null  object \n",
      " 1   reason             330512 non-null  object \n",
      " 2   age                330512 non-null  int64  \n",
      " 3   gender             330512 non-null  object \n",
      " 4   product_name       330512 non-null  object \n",
      " 5   price              330512 non-null  int64  \n",
      " 6   billing_cycle      330512 non-null  int64  \n",
      " 7   days_since_signup  330512 non-null  float64\n",
      " 8   churned            330512 non-null  bool   \n",
      "dtypes: bool(1), float64(1), int64(3), object(4)\n",
      "memory usage: 20.5+ MB\n"
     ]
    }
   ],
   "source": [
    "# gather basic information from dataframe\n",
    "churn_df.info()"
   ]
  },
  {
   "cell_type": "markdown",
   "id": "3b86db9e-ba5c-4510-af3a-48f88551728f",
   "metadata": {},
   "source": [
    "### 2. Check the null count in each column"
   ]
  },
  {
   "cell_type": "code",
   "execution_count": 19,
   "id": "7de310ba-cf6b-4082-b2fe-2878f832c9bb",
   "metadata": {},
   "outputs": [
    {
     "data": {
      "text/plain": [
       "channel              0\n",
       "reason               0\n",
       "age                  0\n",
       "gender               0\n",
       "product_name         0\n",
       "price                0\n",
       "billing_cycle        0\n",
       "days_since_signup    0\n",
       "churned              0\n",
       "dtype: int64"
      ]
     },
     "execution_count": 19,
     "metadata": {},
     "output_type": "execute_result"
    }
   ],
   "source": [
    "churn_df.isnull().sum()"
   ]
  },
  {
   "cell_type": "markdown",
   "id": "998bb042-3040-4d28-aff4-c8f10b470ad9",
   "metadata": {},
   "source": [
    "### 3. Check the duplicate records in a dataframe if exist just drop the duplicate records"
   ]
  },
  {
   "cell_type": "code",
   "execution_count": 20,
   "id": "de5d00c9-609c-4127-ae2b-e3a23582e5bc",
   "metadata": {},
   "outputs": [
    {
     "data": {
      "text/plain": [
       "np.int64(16594)"
      ]
     },
     "execution_count": 20,
     "metadata": {},
     "output_type": "execute_result"
    }
   ],
   "source": [
    "churn_df.duplicated().sum()"
   ]
  },
  {
   "cell_type": "code",
   "execution_count": 21,
   "id": "43839c24-5cf4-4eda-9e37-6fb29164a491",
   "metadata": {},
   "outputs": [],
   "source": [
    "churn_df.drop_duplicates(inplace=True)"
   ]
  },
  {
   "cell_type": "code",
   "execution_count": 22,
   "id": "43d8f62e-4be2-47b6-89d8-c8a3f65e4ae9",
   "metadata": {},
   "outputs": [
    {
     "name": "stdout",
     "output_type": "stream",
     "text": [
      "churn DataFrame columns: Index(['channel', 'reason', 'age', 'gender', 'product_name', 'price',\n",
      "       'billing_cycle', 'days_since_signup', 'churned'],\n",
      "      dtype='object')\n"
     ]
    }
   ],
   "source": [
    "# store the column names in columns variable\n",
    "columns = churn_df.columns\n",
    "print(f'churn DataFrame columns: {columns}')"
   ]
  },
  {
   "cell_type": "code",
   "execution_count": 23,
   "id": "ea4b461e-f3b8-4ea5-be78-4db0fbb5f615",
   "metadata": {},
   "outputs": [
    {
     "name": "stdout",
     "output_type": "stream",
     "text": [
      "Categorical columns with low uniqueness: ['channel', 'reason', 'gender', 'product_name', 'price', 'billing_cycle', 'churned']\n"
     ]
    }
   ],
   "source": [
    "# Threshold for \"low uniqueness\" (e.g., less than 10% unique values)\n",
    "threshold = 0.0001\n",
    "\n",
    "# Total number of rows\n",
    "n_rows = len(churn_df)\n",
    "\n",
    "# Create list of categorical columns with low uniqueness\n",
    "cat_col = [\n",
    "    col for col in churn_df.columns\n",
    "    if churn_df[col].nunique() / n_rows < threshold\n",
    "]\n",
    "\n",
    "print(\"Categorical columns with low uniqueness:\", cat_col)\n"
   ]
  },
  {
   "cell_type": "code",
   "execution_count": 24,
   "id": "69b562e9-e8b7-461d-98cd-9214fc3e0bb8",
   "metadata": {},
   "outputs": [
    {
     "name": "stdout",
     "output_type": "stream",
     "text": [
      "channel unique values: ['phone' 'email']\n",
      "reason unique values: ['signup' 'support']\n",
      "age unique values: [76 61 58 62 71 56 53 70 68 64 54 42 34 51 55 40 52 46 66 65 30 37 41 73\n",
      " 50 75 45 39 59 69 49 78 72 63 43 57 24 48 47 60 33 27 44 74 35 28 67 77\n",
      " 38 36 32 25 26 31 23 29 22]\n",
      "gender unique values: ['female' 'male']\n",
      "product_name unique values: ['annual_subscription' 'monthly_subscription']\n",
      "price unique values: [1200  125]\n",
      "billing_cycle unique values: [12  1]\n",
      "days_since_signup unique values: [3055.15883024 1707.9309375   742.19646991 ... 1297.00792746 1297.0449645\n",
      " 1344.02464042]\n",
      "churned unique values: [False  True]\n"
     ]
    }
   ],
   "source": [
    "# check the unique values each column\n",
    "for col in columns:\n",
    "    print(f'{col} unique values: {churn_df[col].unique()}')"
   ]
  },
  {
   "cell_type": "markdown",
   "id": "0c540c07-5417-467a-a66e-61f3d7e000ec",
   "metadata": {},
   "source": [
    "### 4. Label the categorical columns"
   ]
  },
  {
   "cell_type": "code",
   "execution_count": 25,
   "id": "d0fd59f3-a13b-48bc-a9c6-995db1188787",
   "metadata": {},
   "outputs": [],
   "source": [
    "category_mappings = {}  # To store column-wise mappings\n",
    "encoder = LabelEncoder()\n",
    "\n",
    "for column in cat_col:\n",
    "  encoder.fit(churn_df[column].unique())\n",
    "  churn_df[column] = encoder.transform(churn_df[column])\n",
    "\n",
    "  # Store mapping: category -> encoded value\n",
    "  mapping = dict(zip(encoder.classes_, encoder.transform(encoder.classes_)))\n",
    "  category_mappings[column] = mapping"
   ]
  },
  {
   "cell_type": "code",
   "execution_count": 26,
   "id": "925e34db-7cb1-4f13-bf78-0d6c02f580e1",
   "metadata": {},
   "outputs": [
    {
     "data": {
      "text/html": [
       "<div>\n",
       "<style scoped>\n",
       "    .dataframe tbody tr th:only-of-type {\n",
       "        vertical-align: middle;\n",
       "    }\n",
       "\n",
       "    .dataframe tbody tr th {\n",
       "        vertical-align: top;\n",
       "    }\n",
       "\n",
       "    .dataframe thead th {\n",
       "        text-align: right;\n",
       "    }\n",
       "</style>\n",
       "<table border=\"1\" class=\"dataframe\">\n",
       "  <thead>\n",
       "    <tr style=\"text-align: right;\">\n",
       "      <th></th>\n",
       "      <th>channel</th>\n",
       "      <th>reason</th>\n",
       "      <th>age</th>\n",
       "      <th>gender</th>\n",
       "      <th>product_name</th>\n",
       "      <th>price</th>\n",
       "      <th>billing_cycle</th>\n",
       "      <th>days_since_signup</th>\n",
       "      <th>churned</th>\n",
       "    </tr>\n",
       "  </thead>\n",
       "  <tbody>\n",
       "    <tr>\n",
       "      <th>0</th>\n",
       "      <td>1</td>\n",
       "      <td>0</td>\n",
       "      <td>76</td>\n",
       "      <td>0</td>\n",
       "      <td>0</td>\n",
       "      <td>1</td>\n",
       "      <td>1</td>\n",
       "      <td>3055.158830</td>\n",
       "      <td>0</td>\n",
       "    </tr>\n",
       "    <tr>\n",
       "      <th>1</th>\n",
       "      <td>1</td>\n",
       "      <td>0</td>\n",
       "      <td>61</td>\n",
       "      <td>1</td>\n",
       "      <td>0</td>\n",
       "      <td>1</td>\n",
       "      <td>1</td>\n",
       "      <td>1707.930938</td>\n",
       "      <td>1</td>\n",
       "    </tr>\n",
       "    <tr>\n",
       "      <th>2</th>\n",
       "      <td>1</td>\n",
       "      <td>0</td>\n",
       "      <td>58</td>\n",
       "      <td>0</td>\n",
       "      <td>0</td>\n",
       "      <td>1</td>\n",
       "      <td>1</td>\n",
       "      <td>742.196470</td>\n",
       "      <td>1</td>\n",
       "    </tr>\n",
       "    <tr>\n",
       "      <th>3</th>\n",
       "      <td>1</td>\n",
       "      <td>0</td>\n",
       "      <td>62</td>\n",
       "      <td>0</td>\n",
       "      <td>1</td>\n",
       "      <td>0</td>\n",
       "      <td>0</td>\n",
       "      <td>3055.035925</td>\n",
       "      <td>0</td>\n",
       "    </tr>\n",
       "    <tr>\n",
       "      <th>4</th>\n",
       "      <td>1</td>\n",
       "      <td>0</td>\n",
       "      <td>71</td>\n",
       "      <td>1</td>\n",
       "      <td>0</td>\n",
       "      <td>1</td>\n",
       "      <td>1</td>\n",
       "      <td>1639.172581</td>\n",
       "      <td>1</td>\n",
       "    </tr>\n",
       "  </tbody>\n",
       "</table>\n",
       "</div>"
      ],
      "text/plain": [
       "   channel  reason  age  gender  product_name  price  billing_cycle  \\\n",
       "0        1       0   76       0             0      1              1   \n",
       "1        1       0   61       1             0      1              1   \n",
       "2        1       0   58       0             0      1              1   \n",
       "3        1       0   62       0             1      0              0   \n",
       "4        1       0   71       1             0      1              1   \n",
       "\n",
       "   days_since_signup  churned  \n",
       "0        3055.158830        0  \n",
       "1        1707.930938        1  \n",
       "2         742.196470        1  \n",
       "3        3055.035925        0  \n",
       "4        1639.172581        1  "
      ]
     },
     "execution_count": 26,
     "metadata": {},
     "output_type": "execute_result"
    }
   ],
   "source": [
    "# DataFrame after performing label Encoding\n",
    "churn_df.head()"
   ]
  },
  {
   "cell_type": "markdown",
   "id": "82b9a5b8-415a-4ef9-9162-01b0ebf0d227",
   "metadata": {},
   "source": [
    "### 5. Split the training and testing data"
   ]
  },
  {
   "cell_type": "code",
   "execution_count": 27,
   "id": "5a43312c-b977-43c3-8069-afabf82fda9c",
   "metadata": {},
   "outputs": [],
   "source": [
    "# Split the input as features and outcome\n",
    "feature, outcome = churn_df.drop(columns=['churned']), churn_df['churned']\n",
    "\n",
    "feature_train, feature_test, outcome_train, outcome_test = train_test_split(feature, outcome, test_size=0.2, random_state=42)"
   ]
  },
  {
   "cell_type": "markdown",
   "id": "e96f0223-390a-4b4f-a6a9-7ec9ea3d85e6",
   "metadata": {},
   "source": [
    "### 6. Standerdize the feature"
   ]
  },
  {
   "cell_type": "code",
   "execution_count": 28,
   "id": "8306a6ae-47e2-42c1-9404-bf612fdac8ac",
   "metadata": {},
   "outputs": [],
   "source": [
    "scaler = StandardScaler()\n",
    "\n",
    "feature_train = scaler.fit_transform(feature_train)\n",
    "feature_test = scaler.fit_transform(feature_test)"
   ]
  },
  {
   "cell_type": "markdown",
   "id": "066ed5ef-fdba-4232-9502-40552daeebc0",
   "metadata": {},
   "source": [
    "### 7. Create the model"
   ]
  },
  {
   "cell_type": "code",
   "execution_count": 29,
   "id": "27ef5c9c-c66e-4175-a2d5-8af27ad5c2aa",
   "metadata": {},
   "outputs": [],
   "source": [
    "model = LogisticRegression()"
   ]
  },
  {
   "cell_type": "markdown",
   "id": "5abc7fc5-f1e5-4fa6-8e35-20a514e983db",
   "metadata": {},
   "source": [
    "### 8. Train the model"
   ]
  },
  {
   "cell_type": "code",
   "execution_count": 30,
   "id": "c50fcb79-4169-4919-a9db-a6d17c1167e5",
   "metadata": {},
   "outputs": [
    {
     "data": {
      "text/html": [
       "<style>#sk-container-id-1 {\n",
       "  /* Definition of color scheme common for light and dark mode */\n",
       "  --sklearn-color-text: #000;\n",
       "  --sklearn-color-text-muted: #666;\n",
       "  --sklearn-color-line: gray;\n",
       "  /* Definition of color scheme for unfitted estimators */\n",
       "  --sklearn-color-unfitted-level-0: #fff5e6;\n",
       "  --sklearn-color-unfitted-level-1: #f6e4d2;\n",
       "  --sklearn-color-unfitted-level-2: #ffe0b3;\n",
       "  --sklearn-color-unfitted-level-3: chocolate;\n",
       "  /* Definition of color scheme for fitted estimators */\n",
       "  --sklearn-color-fitted-level-0: #f0f8ff;\n",
       "  --sklearn-color-fitted-level-1: #d4ebff;\n",
       "  --sklearn-color-fitted-level-2: #b3dbfd;\n",
       "  --sklearn-color-fitted-level-3: cornflowerblue;\n",
       "\n",
       "  /* Specific color for light theme */\n",
       "  --sklearn-color-text-on-default-background: var(--sg-text-color, var(--theme-code-foreground, var(--jp-content-font-color1, black)));\n",
       "  --sklearn-color-background: var(--sg-background-color, var(--theme-background, var(--jp-layout-color0, white)));\n",
       "  --sklearn-color-border-box: var(--sg-text-color, var(--theme-code-foreground, var(--jp-content-font-color1, black)));\n",
       "  --sklearn-color-icon: #696969;\n",
       "\n",
       "  @media (prefers-color-scheme: dark) {\n",
       "    /* Redefinition of color scheme for dark theme */\n",
       "    --sklearn-color-text-on-default-background: var(--sg-text-color, var(--theme-code-foreground, var(--jp-content-font-color1, white)));\n",
       "    --sklearn-color-background: var(--sg-background-color, var(--theme-background, var(--jp-layout-color0, #111)));\n",
       "    --sklearn-color-border-box: var(--sg-text-color, var(--theme-code-foreground, var(--jp-content-font-color1, white)));\n",
       "    --sklearn-color-icon: #878787;\n",
       "  }\n",
       "}\n",
       "\n",
       "#sk-container-id-1 {\n",
       "  color: var(--sklearn-color-text);\n",
       "}\n",
       "\n",
       "#sk-container-id-1 pre {\n",
       "  padding: 0;\n",
       "}\n",
       "\n",
       "#sk-container-id-1 input.sk-hidden--visually {\n",
       "  border: 0;\n",
       "  clip: rect(1px 1px 1px 1px);\n",
       "  clip: rect(1px, 1px, 1px, 1px);\n",
       "  height: 1px;\n",
       "  margin: -1px;\n",
       "  overflow: hidden;\n",
       "  padding: 0;\n",
       "  position: absolute;\n",
       "  width: 1px;\n",
       "}\n",
       "\n",
       "#sk-container-id-1 div.sk-dashed-wrapped {\n",
       "  border: 1px dashed var(--sklearn-color-line);\n",
       "  margin: 0 0.4em 0.5em 0.4em;\n",
       "  box-sizing: border-box;\n",
       "  padding-bottom: 0.4em;\n",
       "  background-color: var(--sklearn-color-background);\n",
       "}\n",
       "\n",
       "#sk-container-id-1 div.sk-container {\n",
       "  /* jupyter's `normalize.less` sets `[hidden] { display: none; }`\n",
       "     but bootstrap.min.css set `[hidden] { display: none !important; }`\n",
       "     so we also need the `!important` here to be able to override the\n",
       "     default hidden behavior on the sphinx rendered scikit-learn.org.\n",
       "     See: https://github.com/scikit-learn/scikit-learn/issues/21755 */\n",
       "  display: inline-block !important;\n",
       "  position: relative;\n",
       "}\n",
       "\n",
       "#sk-container-id-1 div.sk-text-repr-fallback {\n",
       "  display: none;\n",
       "}\n",
       "\n",
       "div.sk-parallel-item,\n",
       "div.sk-serial,\n",
       "div.sk-item {\n",
       "  /* draw centered vertical line to link estimators */\n",
       "  background-image: linear-gradient(var(--sklearn-color-text-on-default-background), var(--sklearn-color-text-on-default-background));\n",
       "  background-size: 2px 100%;\n",
       "  background-repeat: no-repeat;\n",
       "  background-position: center center;\n",
       "}\n",
       "\n",
       "/* Parallel-specific style estimator block */\n",
       "\n",
       "#sk-container-id-1 div.sk-parallel-item::after {\n",
       "  content: \"\";\n",
       "  width: 100%;\n",
       "  border-bottom: 2px solid var(--sklearn-color-text-on-default-background);\n",
       "  flex-grow: 1;\n",
       "}\n",
       "\n",
       "#sk-container-id-1 div.sk-parallel {\n",
       "  display: flex;\n",
       "  align-items: stretch;\n",
       "  justify-content: center;\n",
       "  background-color: var(--sklearn-color-background);\n",
       "  position: relative;\n",
       "}\n",
       "\n",
       "#sk-container-id-1 div.sk-parallel-item {\n",
       "  display: flex;\n",
       "  flex-direction: column;\n",
       "}\n",
       "\n",
       "#sk-container-id-1 div.sk-parallel-item:first-child::after {\n",
       "  align-self: flex-end;\n",
       "  width: 50%;\n",
       "}\n",
       "\n",
       "#sk-container-id-1 div.sk-parallel-item:last-child::after {\n",
       "  align-self: flex-start;\n",
       "  width: 50%;\n",
       "}\n",
       "\n",
       "#sk-container-id-1 div.sk-parallel-item:only-child::after {\n",
       "  width: 0;\n",
       "}\n",
       "\n",
       "/* Serial-specific style estimator block */\n",
       "\n",
       "#sk-container-id-1 div.sk-serial {\n",
       "  display: flex;\n",
       "  flex-direction: column;\n",
       "  align-items: center;\n",
       "  background-color: var(--sklearn-color-background);\n",
       "  padding-right: 1em;\n",
       "  padding-left: 1em;\n",
       "}\n",
       "\n",
       "\n",
       "/* Toggleable style: style used for estimator/Pipeline/ColumnTransformer box that is\n",
       "clickable and can be expanded/collapsed.\n",
       "- Pipeline and ColumnTransformer use this feature and define the default style\n",
       "- Estimators will overwrite some part of the style using the `sk-estimator` class\n",
       "*/\n",
       "\n",
       "/* Pipeline and ColumnTransformer style (default) */\n",
       "\n",
       "#sk-container-id-1 div.sk-toggleable {\n",
       "  /* Default theme specific background. It is overwritten whether we have a\n",
       "  specific estimator or a Pipeline/ColumnTransformer */\n",
       "  background-color: var(--sklearn-color-background);\n",
       "}\n",
       "\n",
       "/* Toggleable label */\n",
       "#sk-container-id-1 label.sk-toggleable__label {\n",
       "  cursor: pointer;\n",
       "  display: flex;\n",
       "  width: 100%;\n",
       "  margin-bottom: 0;\n",
       "  padding: 0.5em;\n",
       "  box-sizing: border-box;\n",
       "  text-align: center;\n",
       "  align-items: start;\n",
       "  justify-content: space-between;\n",
       "  gap: 0.5em;\n",
       "}\n",
       "\n",
       "#sk-container-id-1 label.sk-toggleable__label .caption {\n",
       "  font-size: 0.6rem;\n",
       "  font-weight: lighter;\n",
       "  color: var(--sklearn-color-text-muted);\n",
       "}\n",
       "\n",
       "#sk-container-id-1 label.sk-toggleable__label-arrow:before {\n",
       "  /* Arrow on the left of the label */\n",
       "  content: \"▸\";\n",
       "  float: left;\n",
       "  margin-right: 0.25em;\n",
       "  color: var(--sklearn-color-icon);\n",
       "}\n",
       "\n",
       "#sk-container-id-1 label.sk-toggleable__label-arrow:hover:before {\n",
       "  color: var(--sklearn-color-text);\n",
       "}\n",
       "\n",
       "/* Toggleable content - dropdown */\n",
       "\n",
       "#sk-container-id-1 div.sk-toggleable__content {\n",
       "  max-height: 0;\n",
       "  max-width: 0;\n",
       "  overflow: hidden;\n",
       "  text-align: left;\n",
       "  /* unfitted */\n",
       "  background-color: var(--sklearn-color-unfitted-level-0);\n",
       "}\n",
       "\n",
       "#sk-container-id-1 div.sk-toggleable__content.fitted {\n",
       "  /* fitted */\n",
       "  background-color: var(--sklearn-color-fitted-level-0);\n",
       "}\n",
       "\n",
       "#sk-container-id-1 div.sk-toggleable__content pre {\n",
       "  margin: 0.2em;\n",
       "  border-radius: 0.25em;\n",
       "  color: var(--sklearn-color-text);\n",
       "  /* unfitted */\n",
       "  background-color: var(--sklearn-color-unfitted-level-0);\n",
       "}\n",
       "\n",
       "#sk-container-id-1 div.sk-toggleable__content.fitted pre {\n",
       "  /* unfitted */\n",
       "  background-color: var(--sklearn-color-fitted-level-0);\n",
       "}\n",
       "\n",
       "#sk-container-id-1 input.sk-toggleable__control:checked~div.sk-toggleable__content {\n",
       "  /* Expand drop-down */\n",
       "  max-height: 200px;\n",
       "  max-width: 100%;\n",
       "  overflow: auto;\n",
       "}\n",
       "\n",
       "#sk-container-id-1 input.sk-toggleable__control:checked~label.sk-toggleable__label-arrow:before {\n",
       "  content: \"▾\";\n",
       "}\n",
       "\n",
       "/* Pipeline/ColumnTransformer-specific style */\n",
       "\n",
       "#sk-container-id-1 div.sk-label input.sk-toggleable__control:checked~label.sk-toggleable__label {\n",
       "  color: var(--sklearn-color-text);\n",
       "  background-color: var(--sklearn-color-unfitted-level-2);\n",
       "}\n",
       "\n",
       "#sk-container-id-1 div.sk-label.fitted input.sk-toggleable__control:checked~label.sk-toggleable__label {\n",
       "  background-color: var(--sklearn-color-fitted-level-2);\n",
       "}\n",
       "\n",
       "/* Estimator-specific style */\n",
       "\n",
       "/* Colorize estimator box */\n",
       "#sk-container-id-1 div.sk-estimator input.sk-toggleable__control:checked~label.sk-toggleable__label {\n",
       "  /* unfitted */\n",
       "  background-color: var(--sklearn-color-unfitted-level-2);\n",
       "}\n",
       "\n",
       "#sk-container-id-1 div.sk-estimator.fitted input.sk-toggleable__control:checked~label.sk-toggleable__label {\n",
       "  /* fitted */\n",
       "  background-color: var(--sklearn-color-fitted-level-2);\n",
       "}\n",
       "\n",
       "#sk-container-id-1 div.sk-label label.sk-toggleable__label,\n",
       "#sk-container-id-1 div.sk-label label {\n",
       "  /* The background is the default theme color */\n",
       "  color: var(--sklearn-color-text-on-default-background);\n",
       "}\n",
       "\n",
       "/* On hover, darken the color of the background */\n",
       "#sk-container-id-1 div.sk-label:hover label.sk-toggleable__label {\n",
       "  color: var(--sklearn-color-text);\n",
       "  background-color: var(--sklearn-color-unfitted-level-2);\n",
       "}\n",
       "\n",
       "/* Label box, darken color on hover, fitted */\n",
       "#sk-container-id-1 div.sk-label.fitted:hover label.sk-toggleable__label.fitted {\n",
       "  color: var(--sklearn-color-text);\n",
       "  background-color: var(--sklearn-color-fitted-level-2);\n",
       "}\n",
       "\n",
       "/* Estimator label */\n",
       "\n",
       "#sk-container-id-1 div.sk-label label {\n",
       "  font-family: monospace;\n",
       "  font-weight: bold;\n",
       "  display: inline-block;\n",
       "  line-height: 1.2em;\n",
       "}\n",
       "\n",
       "#sk-container-id-1 div.sk-label-container {\n",
       "  text-align: center;\n",
       "}\n",
       "\n",
       "/* Estimator-specific */\n",
       "#sk-container-id-1 div.sk-estimator {\n",
       "  font-family: monospace;\n",
       "  border: 1px dotted var(--sklearn-color-border-box);\n",
       "  border-radius: 0.25em;\n",
       "  box-sizing: border-box;\n",
       "  margin-bottom: 0.5em;\n",
       "  /* unfitted */\n",
       "  background-color: var(--sklearn-color-unfitted-level-0);\n",
       "}\n",
       "\n",
       "#sk-container-id-1 div.sk-estimator.fitted {\n",
       "  /* fitted */\n",
       "  background-color: var(--sklearn-color-fitted-level-0);\n",
       "}\n",
       "\n",
       "/* on hover */\n",
       "#sk-container-id-1 div.sk-estimator:hover {\n",
       "  /* unfitted */\n",
       "  background-color: var(--sklearn-color-unfitted-level-2);\n",
       "}\n",
       "\n",
       "#sk-container-id-1 div.sk-estimator.fitted:hover {\n",
       "  /* fitted */\n",
       "  background-color: var(--sklearn-color-fitted-level-2);\n",
       "}\n",
       "\n",
       "/* Specification for estimator info (e.g. \"i\" and \"?\") */\n",
       "\n",
       "/* Common style for \"i\" and \"?\" */\n",
       "\n",
       ".sk-estimator-doc-link,\n",
       "a:link.sk-estimator-doc-link,\n",
       "a:visited.sk-estimator-doc-link {\n",
       "  float: right;\n",
       "  font-size: smaller;\n",
       "  line-height: 1em;\n",
       "  font-family: monospace;\n",
       "  background-color: var(--sklearn-color-background);\n",
       "  border-radius: 1em;\n",
       "  height: 1em;\n",
       "  width: 1em;\n",
       "  text-decoration: none !important;\n",
       "  margin-left: 0.5em;\n",
       "  text-align: center;\n",
       "  /* unfitted */\n",
       "  border: var(--sklearn-color-unfitted-level-1) 1pt solid;\n",
       "  color: var(--sklearn-color-unfitted-level-1);\n",
       "}\n",
       "\n",
       ".sk-estimator-doc-link.fitted,\n",
       "a:link.sk-estimator-doc-link.fitted,\n",
       "a:visited.sk-estimator-doc-link.fitted {\n",
       "  /* fitted */\n",
       "  border: var(--sklearn-color-fitted-level-1) 1pt solid;\n",
       "  color: var(--sklearn-color-fitted-level-1);\n",
       "}\n",
       "\n",
       "/* On hover */\n",
       "div.sk-estimator:hover .sk-estimator-doc-link:hover,\n",
       ".sk-estimator-doc-link:hover,\n",
       "div.sk-label-container:hover .sk-estimator-doc-link:hover,\n",
       ".sk-estimator-doc-link:hover {\n",
       "  /* unfitted */\n",
       "  background-color: var(--sklearn-color-unfitted-level-3);\n",
       "  color: var(--sklearn-color-background);\n",
       "  text-decoration: none;\n",
       "}\n",
       "\n",
       "div.sk-estimator.fitted:hover .sk-estimator-doc-link.fitted:hover,\n",
       ".sk-estimator-doc-link.fitted:hover,\n",
       "div.sk-label-container:hover .sk-estimator-doc-link.fitted:hover,\n",
       ".sk-estimator-doc-link.fitted:hover {\n",
       "  /* fitted */\n",
       "  background-color: var(--sklearn-color-fitted-level-3);\n",
       "  color: var(--sklearn-color-background);\n",
       "  text-decoration: none;\n",
       "}\n",
       "\n",
       "/* Span, style for the box shown on hovering the info icon */\n",
       ".sk-estimator-doc-link span {\n",
       "  display: none;\n",
       "  z-index: 9999;\n",
       "  position: relative;\n",
       "  font-weight: normal;\n",
       "  right: .2ex;\n",
       "  padding: .5ex;\n",
       "  margin: .5ex;\n",
       "  width: min-content;\n",
       "  min-width: 20ex;\n",
       "  max-width: 50ex;\n",
       "  color: var(--sklearn-color-text);\n",
       "  box-shadow: 2pt 2pt 4pt #999;\n",
       "  /* unfitted */\n",
       "  background: var(--sklearn-color-unfitted-level-0);\n",
       "  border: .5pt solid var(--sklearn-color-unfitted-level-3);\n",
       "}\n",
       "\n",
       ".sk-estimator-doc-link.fitted span {\n",
       "  /* fitted */\n",
       "  background: var(--sklearn-color-fitted-level-0);\n",
       "  border: var(--sklearn-color-fitted-level-3);\n",
       "}\n",
       "\n",
       ".sk-estimator-doc-link:hover span {\n",
       "  display: block;\n",
       "}\n",
       "\n",
       "/* \"?\"-specific style due to the `<a>` HTML tag */\n",
       "\n",
       "#sk-container-id-1 a.estimator_doc_link {\n",
       "  float: right;\n",
       "  font-size: 1rem;\n",
       "  line-height: 1em;\n",
       "  font-family: monospace;\n",
       "  background-color: var(--sklearn-color-background);\n",
       "  border-radius: 1rem;\n",
       "  height: 1rem;\n",
       "  width: 1rem;\n",
       "  text-decoration: none;\n",
       "  /* unfitted */\n",
       "  color: var(--sklearn-color-unfitted-level-1);\n",
       "  border: var(--sklearn-color-unfitted-level-1) 1pt solid;\n",
       "}\n",
       "\n",
       "#sk-container-id-1 a.estimator_doc_link.fitted {\n",
       "  /* fitted */\n",
       "  border: var(--sklearn-color-fitted-level-1) 1pt solid;\n",
       "  color: var(--sklearn-color-fitted-level-1);\n",
       "}\n",
       "\n",
       "/* On hover */\n",
       "#sk-container-id-1 a.estimator_doc_link:hover {\n",
       "  /* unfitted */\n",
       "  background-color: var(--sklearn-color-unfitted-level-3);\n",
       "  color: var(--sklearn-color-background);\n",
       "  text-decoration: none;\n",
       "}\n",
       "\n",
       "#sk-container-id-1 a.estimator_doc_link.fitted:hover {\n",
       "  /* fitted */\n",
       "  background-color: var(--sklearn-color-fitted-level-3);\n",
       "}\n",
       "</style><div id=\"sk-container-id-1\" class=\"sk-top-container\"><div class=\"sk-text-repr-fallback\"><pre>LogisticRegression()</pre><b>In a Jupyter environment, please rerun this cell to show the HTML representation or trust the notebook. <br />On GitHub, the HTML representation is unable to render, please try loading this page with nbviewer.org.</b></div><div class=\"sk-container\" hidden><div class=\"sk-item\"><div class=\"sk-estimator fitted sk-toggleable\"><input class=\"sk-toggleable__control sk-hidden--visually\" id=\"sk-estimator-id-1\" type=\"checkbox\" checked><label for=\"sk-estimator-id-1\" class=\"sk-toggleable__label fitted sk-toggleable__label-arrow\"><div><div>LogisticRegression</div></div><div><a class=\"sk-estimator-doc-link fitted\" rel=\"noreferrer\" target=\"_blank\" href=\"https://scikit-learn.org/1.6/modules/generated/sklearn.linear_model.LogisticRegression.html\">?<span>Documentation for LogisticRegression</span></a><span class=\"sk-estimator-doc-link fitted\">i<span>Fitted</span></span></div></label><div class=\"sk-toggleable__content fitted\"><pre>LogisticRegression()</pre></div> </div></div></div></div>"
      ],
      "text/plain": [
       "LogisticRegression()"
      ]
     },
     "execution_count": 30,
     "metadata": {},
     "output_type": "execute_result"
    }
   ],
   "source": [
    "model.fit(feature_train, outcome_train)"
   ]
  },
  {
   "cell_type": "markdown",
   "id": "3add0d22-0436-4e88-9203-533d0a11b714",
   "metadata": {},
   "source": [
    "### 9. Evaluate the model\n",
    "#### 9.1 Let's calculate the Training Accuracy"
   ]
  },
  {
   "cell_type": "code",
   "execution_count": 31,
   "id": "32e9281d-2155-4cba-89b0-09655645e8cf",
   "metadata": {},
   "outputs": [],
   "source": [
    "# Predict the values using training data for calculating training accuracy\n",
    "feature_train_pred = model.predict(feature_train)\n",
    "feature_train_proba = model.predict_proba(feature_train)[:, 1]  # Probabilities for ROC-AUC"
   ]
  },
  {
   "cell_type": "code",
   "execution_count": 32,
   "id": "f164e39e-ec83-438d-b4ee-4ddb9af6f0e4",
   "metadata": {},
   "outputs": [],
   "source": [
    "# create a evaluation dictionary\n",
    "eve_metrics = ['Precision', 'Recall', 'F1 Score', 'ROC-AUC Score']\n",
    "\n",
    "# Evaluation Metrics\n",
    "precision = precision_score(outcome_train, feature_train_pred)\n",
    "recall = recall_score(outcome_train, feature_train_pred)\n",
    "f1 = f1_score(outcome_train, feature_train_pred)\n",
    "roc_auc = roc_auc_score(outcome_train, feature_train_proba)\n",
    "conf_matrix = confusion_matrix(outcome_train, feature_train_pred)"
   ]
  },
  {
   "cell_type": "code",
   "execution_count": 33,
   "id": "cc78d05a-de10-4a13-88db-5571f5c5e1d8",
   "metadata": {},
   "outputs": [
    {
     "data": {
      "text/html": [
       "<div>\n",
       "<style scoped>\n",
       "    .dataframe tbody tr th:only-of-type {\n",
       "        vertical-align: middle;\n",
       "    }\n",
       "\n",
       "    .dataframe tbody tr th {\n",
       "        vertical-align: top;\n",
       "    }\n",
       "\n",
       "    .dataframe thead th {\n",
       "        text-align: right;\n",
       "    }\n",
       "</style>\n",
       "<table border=\"1\" class=\"dataframe\">\n",
       "  <thead>\n",
       "    <tr style=\"text-align: right;\">\n",
       "      <th></th>\n",
       "      <th>Train Metrics</th>\n",
       "    </tr>\n",
       "  </thead>\n",
       "  <tbody>\n",
       "    <tr>\n",
       "      <th>Precision</th>\n",
       "      <td>0.996219</td>\n",
       "    </tr>\n",
       "    <tr>\n",
       "      <th>Recall</th>\n",
       "      <td>0.946800</td>\n",
       "    </tr>\n",
       "    <tr>\n",
       "      <th>F1 Score</th>\n",
       "      <td>0.970881</td>\n",
       "    </tr>\n",
       "    <tr>\n",
       "      <th>ROC-AUC Score</th>\n",
       "      <td>0.993496</td>\n",
       "    </tr>\n",
       "  </tbody>\n",
       "</table>\n",
       "</div>"
      ],
      "text/plain": [
       "               Train Metrics\n",
       "Precision           0.996219\n",
       "Recall              0.946800\n",
       "F1 Score            0.970881\n",
       "ROC-AUC Score       0.993496"
      ]
     },
     "execution_count": 33,
     "metadata": {},
     "output_type": "execute_result"
    }
   ],
   "source": [
    "# Create dictionary using zip\n",
    "eve_metrics_dict = {}\n",
    "eve_metrics_dict['Train Metrics'] = dict(zip(eve_metrics, [precision, recall, f1, roc_auc]))\n",
    "pd.DataFrame(eve_metrics_dict)"
   ]
  },
  {
   "cell_type": "code",
   "execution_count": 34,
   "id": "2997e724-b003-43cd-b7d8-68939b0851e8",
   "metadata": {},
   "outputs": [
    {
     "data": {
      "text/html": [
       "<div>\n",
       "<style scoped>\n",
       "    .dataframe tbody tr th:only-of-type {\n",
       "        vertical-align: middle;\n",
       "    }\n",
       "\n",
       "    .dataframe tbody tr th {\n",
       "        vertical-align: top;\n",
       "    }\n",
       "\n",
       "    .dataframe thead th {\n",
       "        text-align: right;\n",
       "    }\n",
       "</style>\n",
       "<table border=\"1\" class=\"dataframe\">\n",
       "  <thead>\n",
       "    <tr style=\"text-align: right;\">\n",
       "      <th></th>\n",
       "      <th>0</th>\n",
       "      <th>1</th>\n",
       "    </tr>\n",
       "  </thead>\n",
       "  <tbody>\n",
       "    <tr>\n",
       "      <th>0</th>\n",
       "      <td>192767</td>\n",
       "      <td>209</td>\n",
       "    </tr>\n",
       "    <tr>\n",
       "      <th>1</th>\n",
       "      <td>3094</td>\n",
       "      <td>55064</td>\n",
       "    </tr>\n",
       "  </tbody>\n",
       "</table>\n",
       "</div>"
      ],
      "text/plain": [
       "        0      1\n",
       "0  192767    209\n",
       "1    3094  55064"
      ]
     },
     "execution_count": 34,
     "metadata": {},
     "output_type": "execute_result"
    }
   ],
   "source": [
    "pd.DataFrame(conf_matrix)"
   ]
  },
  {
   "cell_type": "markdown",
   "id": "b47c0e28-3343-44c9-8f7a-7e38f3d4248f",
   "metadata": {},
   "source": [
    "#### 9.2 Let's check the testing accuracy"
   ]
  },
  {
   "cell_type": "code",
   "execution_count": 35,
   "id": "242d43c5-6e48-48c4-9b8c-43b110daaff3",
   "metadata": {},
   "outputs": [],
   "source": [
    "# Predict the values using testing data for calculating testing accuracy\n",
    "feature_test_pred = model.predict(feature_test)\n",
    "feature_test_proba = model.predict_proba(feature_test)[:, 1]  # Probabilities for ROC-AUC"
   ]
  },
  {
   "cell_type": "code",
   "execution_count": 36,
   "id": "1b450d4b-80d2-460f-826a-ac3fe463e3f3",
   "metadata": {},
   "outputs": [],
   "source": [
    "# Evaluation Metrics\n",
    "precision = precision_score(outcome_test, feature_test_pred)\n",
    "recall = recall_score(outcome_test, feature_test_pred)\n",
    "f1 = f1_score(outcome_test, feature_test_pred)\n",
    "roc_auc = roc_auc_score(outcome_test, feature_test_proba)\n",
    "conf_matrix = confusion_matrix(outcome_test, feature_test_pred)"
   ]
  },
  {
   "cell_type": "code",
   "execution_count": 37,
   "id": "c8885ef2-aa71-4233-a175-2870f3f37b1f",
   "metadata": {},
   "outputs": [
    {
     "data": {
      "text/html": [
       "<div>\n",
       "<style scoped>\n",
       "    .dataframe tbody tr th:only-of-type {\n",
       "        vertical-align: middle;\n",
       "    }\n",
       "\n",
       "    .dataframe tbody tr th {\n",
       "        vertical-align: top;\n",
       "    }\n",
       "\n",
       "    .dataframe thead th {\n",
       "        text-align: right;\n",
       "    }\n",
       "</style>\n",
       "<table border=\"1\" class=\"dataframe\">\n",
       "  <thead>\n",
       "    <tr style=\"text-align: right;\">\n",
       "      <th></th>\n",
       "      <th>Train Metrics</th>\n",
       "      <th>Test Metrics</th>\n",
       "    </tr>\n",
       "  </thead>\n",
       "  <tbody>\n",
       "    <tr>\n",
       "      <th>Precision</th>\n",
       "      <td>0.996219</td>\n",
       "      <td>0.995504</td>\n",
       "    </tr>\n",
       "    <tr>\n",
       "      <th>Recall</th>\n",
       "      <td>0.946800</td>\n",
       "      <td>0.948587</td>\n",
       "    </tr>\n",
       "    <tr>\n",
       "      <th>F1 Score</th>\n",
       "      <td>0.970881</td>\n",
       "      <td>0.971479</td>\n",
       "    </tr>\n",
       "    <tr>\n",
       "      <th>ROC-AUC Score</th>\n",
       "      <td>0.993496</td>\n",
       "      <td>0.994118</td>\n",
       "    </tr>\n",
       "  </tbody>\n",
       "</table>\n",
       "</div>"
      ],
      "text/plain": [
       "               Train Metrics  Test Metrics\n",
       "Precision           0.996219      0.995504\n",
       "Recall              0.946800      0.948587\n",
       "F1 Score            0.970881      0.971479\n",
       "ROC-AUC Score       0.993496      0.994118"
      ]
     },
     "execution_count": 37,
     "metadata": {},
     "output_type": "execute_result"
    }
   ],
   "source": [
    "# Create dictionary using zip\n",
    "eve_metrics_dict['Test Metrics'] = dict(zip(eve_metrics, [precision, recall, f1, roc_auc]))\n",
    "eve_metrics_df = pd.DataFrame(eve_metrics_dict)\n",
    "eve_metrics_df"
   ]
  },
  {
   "cell_type": "code",
   "execution_count": 38,
   "id": "2cbf3b66-5a58-4fba-a840-95eace047892",
   "metadata": {},
   "outputs": [
    {
     "data": {
      "text/html": [
       "<div>\n",
       "<style scoped>\n",
       "    .dataframe tbody tr th:only-of-type {\n",
       "        vertical-align: middle;\n",
       "    }\n",
       "\n",
       "    .dataframe tbody tr th {\n",
       "        vertical-align: top;\n",
       "    }\n",
       "\n",
       "    .dataframe thead th {\n",
       "        text-align: right;\n",
       "    }\n",
       "</style>\n",
       "<table border=\"1\" class=\"dataframe\">\n",
       "  <thead>\n",
       "    <tr style=\"text-align: right;\">\n",
       "      <th></th>\n",
       "      <th>0</th>\n",
       "      <th>1</th>\n",
       "    </tr>\n",
       "  </thead>\n",
       "  <tbody>\n",
       "    <tr>\n",
       "      <th>0</th>\n",
       "      <td>48251</td>\n",
       "      <td>62</td>\n",
       "    </tr>\n",
       "    <tr>\n",
       "      <th>1</th>\n",
       "      <td>744</td>\n",
       "      <td>13727</td>\n",
       "    </tr>\n",
       "  </tbody>\n",
       "</table>\n",
       "</div>"
      ],
      "text/plain": [
       "       0      1\n",
       "0  48251     62\n",
       "1    744  13727"
      ]
     },
     "execution_count": 38,
     "metadata": {},
     "output_type": "execute_result"
    }
   ],
   "source": [
    "pd.DataFrame(conf_matrix)"
   ]
  },
  {
   "cell_type": "code",
   "execution_count": null,
   "id": "32f1ff26-1068-4113-9900-182edab536ce",
   "metadata": {},
   "outputs": [],
   "source": []
  },
  {
   "cell_type": "code",
   "execution_count": 54,
   "id": "edd4ac49-d33e-4f79-9f8c-071451a6fcfe",
   "metadata": {},
   "outputs": [],
   "source": [
    "# Columns to expect in this exact order\n",
    "input_columns = [\n",
    "    'channel', 'reason', 'age', 'gender',\n",
    "    'product_name', 'price', 'billing_cycle', 'days_since_signup'\n",
    "]\n",
    "\n",
    "# Assume category_mappings already exists as you set earlier\n",
    "# {'channel': {'online': 0, 'offline': 1}, ... }\n",
    "\n",
    "categorical_cols = list(category_mappings.keys())\n",
    "numerical_cols = [col for col in input_columns if col not in categorical_cols]"
   ]
  },
  {
   "cell_type": "code",
   "execution_count": 55,
   "id": "ab91e9e0-c923-49cd-8cd6-edd4e4ab8de4",
   "metadata": {},
   "outputs": [],
   "source": [
    "def predict_churn_with_mapping(*args):\n",
    "    input_dict = {}\n",
    "    i = 0\n",
    "    # Categorical features\n",
    "    for col in categorical_cols:\n",
    "        val = args[i]\n",
    "        if val not in category_mappings[col]:\n",
    "            return f\"Invalid input for {col}\"\n",
    "        input_dict[col] = category_mappings[col][val]\n",
    "        i += 1\n",
    "    # Numerical features\n",
    "    for col in numerical_cols:\n",
    "        input_dict[col] = args[i]\n",
    "        i += 1\n",
    "\n",
    "    # Construct input DataFrame in the right order\n",
    "    input_df = pd.DataFrame([[input_dict[col] for col in input_columns]], columns=input_columns)\n",
    "\n",
    "    # Scale and predict\n",
    "    input_scaled = scaler.transform(input_df)\n",
    "    pred = model.predict(input_scaled)[0]\n",
    "    prob = model.predict_proba(input_scaled)[0][1]\n",
    "    return f\"Churn Prediction: {'Yes' if pred else 'No'} (Probability: {prob:.2f})\""
   ]
  },
  {
   "cell_type": "code",
   "execution_count": 56,
   "id": "34b90869-a9b7-4665-8e59-0bd79080d298",
   "metadata": {},
   "outputs": [],
   "source": [
    "# Gradio Inputs\n",
    "gr_inputs = []\n",
    "\n",
    "for col in categorical_cols:\n",
    "    gr_inputs.append(gr.Dropdown(choices=list(category_mappings[col].keys()), label=col))\n",
    "\n",
    "for col in numerical_cols:\n",
    "    gr_inputs.append(gr.Number(label=col))"
   ]
  },
  {
   "cell_type": "code",
   "execution_count": 57,
   "id": "799a0f48-62ed-48ee-b551-825740a181df",
   "metadata": {},
   "outputs": [
    {
     "name": "stdout",
     "output_type": "stream",
     "text": [
      "* Running on local URL:  http://127.0.0.1:7864\n",
      "* To create a public link, set `share=True` in `launch()`.\n"
     ]
    },
    {
     "data": {
      "text/html": [
       "<div><iframe src=\"http://127.0.0.1:7864/\" width=\"100%\" height=\"500\" allow=\"autoplay; camera; microphone; clipboard-read; clipboard-write;\" frameborder=\"0\" allowfullscreen></iframe></div>"
      ],
      "text/plain": [
       "<IPython.core.display.HTML object>"
      ]
     },
     "metadata": {},
     "output_type": "display_data"
    },
    {
     "data": {
      "text/plain": []
     },
     "execution_count": 57,
     "metadata": {},
     "output_type": "execute_result"
    }
   ],
   "source": [
    "# Launch the Gradio app\n",
    "gr.Interface(\n",
    "    fn=predict_churn_with_mapping,\n",
    "    inputs=gr_inputs,\n",
    "    outputs=\"text\",\n",
    "    title=\"Customer Churn Predictor\",\n",
    "    description=\"Provide customer attributes to get churn prediction\"\n",
    ").launch()"
   ]
  }
 ],
 "metadata": {
  "kernelspec": {
   "display_name": "Python 3 (ipykernel)",
   "language": "python",
   "name": "python3"
  },
  "language_info": {
   "codemirror_mode": {
    "name": "ipython",
    "version": 3
   },
   "file_extension": ".py",
   "mimetype": "text/x-python",
   "name": "python",
   "nbconvert_exporter": "python",
   "pygments_lexer": "ipython3",
   "version": "3.12.3"
  }
 },
 "nbformat": 4,
 "nbformat_minor": 5
}
